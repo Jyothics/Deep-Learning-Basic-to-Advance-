{
  "nbformat": 4,
  "nbformat_minor": 0,
  "metadata": {
    "colab": {
      "name": "MP Neuron_best.ipynb",
      "version": "0.3.2",
      "provenance": [],
      "collapsed_sections": [],
      "include_colab_link": true
    },
    "kernelspec": {
      "display_name": "Python 3",
      "language": "python",
      "name": "python3"
    }
  },
  "cells": [
    {
      "cell_type": "markdown",
      "metadata": {
        "id": "view-in-github",
        "colab_type": "text"
      },
      "source": [
        "<a href=\"https://colab.research.google.com/github/Jyothics/Deep-Learning-Basic-to-Advance-/blob/master/MP_Neuron_best.ipynb\" target=\"_parent\"><img src=\"https://colab.research.google.com/assets/colab-badge.svg\" alt=\"Open In Colab\"/></a>"
      ]
    },
    {
      "metadata": {
        "trusted": true,
        "_uuid": "f94d19193f7ee7db13742c2b816cfac9a0559f34",
        "id": "XUVLpexJrTd5",
        "colab_type": "code",
        "colab": {}
      },
      "cell_type": "code",
      "source": [
        "import numpy as np\n",
        "import pandas as pd\n",
        "import matplotlib.pyplot as plt\n",
        "from sklearn.preprocessing import LabelEncoder,MinMaxScaler, StandardScaler\n",
        "from sklearn.model_selection import train_test_split, ParameterGrid\n",
        "from sklearn.metrics import accuracy_score, confusion_matrix, mean_squared_error, log_loss\n",
        "import operator\n",
        "import json\n",
        "from IPython import display\n",
        "import os\n",
        "import warnings\n",
        "\n",
        "np.random.seed(0)\n",
        "warnings.filterwarnings(\"ignore\")\n",
        "THRESHOLD = 4"
      ],
      "execution_count": 0,
      "outputs": []
    },
    {
      "metadata": {
        "_uuid": "588df3f42f182de1701f16c062ac812ec06e79a1",
        "id": "ySGF1NbJrTeI",
        "colab_type": "text"
      },
      "cell_type": "markdown",
      "source": [
        "Task: To predict whether the user likes the mobile phone or not. <br>\n",
        "Assumption: If the average rating of mobile >= threshold, then the user likes it, otherwise not."
      ]
    },
    {
      "metadata": {
        "_uuid": "f36533c5fa7bb917301dc3b2e54eeb4373f6ffb0",
        "id": "sFT0KHTGrTeL",
        "colab_type": "text"
      },
      "cell_type": "markdown",
      "source": [
        "<b>Missing values:</b><br>\n",
        "'Also Known As'(459),'Applications'(421),'Audio Features'(437),'Bezel-less display'(266),'Browser'(449),'Build Material'(338),'Co-Processor'(451),'Display Colour'(457),'Mobile High-Definition Link(MHL)'(472),'Music'(447)\n",
        "'Email','Fingerprint Sensor Position'(174),'Games'(446),'HDMI'(454),'Heart Rate Monitor'(467),'IRIS Scanner'(467),\n",
        "'Optical Image Stabilisation'(219),'Other Facilities'(444),'Phone Book'(444),'Physical Aperture'(87),'Quick Charging'(122),'Ring Tone'(444),'Ruggedness'(430),SAR Value(315),'SIM 3'(472),'SMS'(470)', 'Screen Protection'(229),'Screen to Body Ratio (claimed by the brand)'(428),'Sensor'(242),'Software Based Aperture'(473),\n",
        "'Special Features'(459),'Standby time'(334),'Stylus'(473),'TalkTime'(259), 'USB Type-C'(374),'Video Player'(456),\n",
        "'Video Recording Features'(458),'Waterproof'(398),'Wireless Charging','USB OTG Support'(159), 'Video ,'Recording'(113),'Java'(471),'Browser'(448)\n",
        "\n",
        "<b>Very low variance:</b><br>\n",
        "'Architecture'(most entries are 64-bit),'Audio Jack','GPS','Loudspeaker','Network','Network Support','Other Sensors'(28),'SIM Size', 'VoLTE'\n",
        "\n",
        "\n",
        "<b>Multivalued:</b><br>\n",
        "'Colours','Custom UI','Model'(1),'Other Sensors','Launch Date'\n",
        "\n",
        "<b>Not important:</b><br>\n",
        "'Bluetooth', 'Settings'(75),'Wi-Fi','Wi-Fi Features'\n",
        "\n",
        "<b>Doubtful:</b><br>\n",
        "'Aspect Ratio','Autofocus','Brand','Camera Features','Fingerprint Sensor'(very few entries are missing),\n",
        "'Fingerprint Sensor Position', 'Graphics'(multivalued),'Image resolution'(multivalued),'SIM Size','Sim Slot(s)', 'User Available Storage', 'SIM 1', 'SIM 2','Shooting Modes', 'Touch Screen'(24), 'USB Connectivity'\n",
        "    \n",
        "<b>To check:</b><br>\n",
        "'Display Type','Expandable Memory','FM Radio'\n",
        "\n",
        "<b>High Correlation with other features</b><br>\n",
        "'SIM Slot(s)' high correlation with SIM1\n",
        "'Weight' has high high correlation with capacity , screen-to-body ratio\n",
        "'Height' - screen size is also there\n",
        "    \n",
        "<b>Given a mobile, we can't directly get these features</b><br>\n",
        "'Rating Count', 'Review Count'\n",
        "\n",
        "<b>Keeping:</b><br>\n",
        "'Capacity','Flash'(17),'Height'(22),'Internal Memory'(20, require cleaning),'Operating System'(25, require cleaning), 'Pixel Density'(1, clean it),'Processor'(22, clean it), 'RAM'(17, clean), 'Rating','Resolution'(cleaning), 'Screen Resolution','Screen Size', 'Thickness'(22), 'Type','User Replaceable','Weight'(cleaning),'Sim Size'(), 'Other Sensors'(28), 'Screen to Body Ratio (calculated)','Width',\n"
      ]
    },
    {
      "metadata": {
        "trusted": true,
        "_uuid": "add88703e4532747b8da1bebc0da1403d5650918",
        "id": "0tnoqw74rTeN",
        "colab_type": "code",
        "colab": {
          "base_uri": "https://localhost:8080/",
          "height": 85
        },
        "outputId": "fea5a2a4-5d08-47c5-cf63-97c7a62dc0d5"
      },
      "cell_type": "code",
      "source": [
        "# read data from file\n",
        "train = pd.read_csv(\"train.csv\") \n",
        "test = pd.read_csv(\"test.csv\")\n",
        "\n",
        "# check the number of features and data points in train\n",
        "print(\"Number of data points in train: %d\" % train.shape[0])\n",
        "print(\"Number of features in train: %d\" % train.shape[1])\n",
        "\n",
        "# check the number of features and data points in test\n",
        "print(\"Number of data points in test: %d\" % test.shape[0])\n",
        "print(\"Number of features in test: %d\" % test.shape[1])"
      ],
      "execution_count": 2,
      "outputs": [
        {
          "output_type": "stream",
          "text": [
            "Number of data points in train: 355\n",
            "Number of features in train: 99\n",
            "Number of data points in test: 119\n",
            "Number of features in test: 98\n"
          ],
          "name": "stdout"
        }
      ]
    },
    {
      "metadata": {
        "trusted": true,
        "_uuid": "96042f7f445004ac82d27e9a6a4d8e00b8804720",
        "id": "YXn58mMkrTeV",
        "colab_type": "code",
        "colab": {}
      },
      "cell_type": "code",
      "source": [
        "def data_clean(data):\n",
        "    \n",
        "    # Let's first remove all missing value features\n",
        "    columns_to_remove = ['Also Known As','Applications','Audio Features','Bezel-less display'\n",
        "                         'Browser','Build Material','Co-Processor','Browser'\n",
        "                         'Display Colour','Mobile High-Definition Link(MHL)',\n",
        "                         'Music', 'Email','Fingerprint Sensor Position',\n",
        "                         'Games','HDMI','Heart Rate Monitor','IRIS Scanner', \n",
        "                         'Optical Image Stabilisation','Other Facilities',\n",
        "                         'Phone Book','Physical Aperture','Quick Charging',\n",
        "                         'Ring Tone','Ruggedness','SAR Value','SIM 3','SMS',\n",
        "                         'Screen Protection','Screen to Body Ratio (claimed by the brand)',\n",
        "                         'Sensor','Software Based Aperture', 'Special Features',\n",
        "                         'Standby time','Stylus','TalkTime', 'USB Type-C',\n",
        "                         'Video Player', 'Video Recording Features','Waterproof',\n",
        "                         'Wireless Charging','USB OTG Support', 'Video Recording','Java']\n",
        "\n",
        "    columns_to_retain = list(set(data.columns)-set(columns_to_remove))\n",
        "    data = data[columns_to_retain]\n",
        "\n",
        "    #Features having very low variance \n",
        "    columns_to_remove = ['Architecture','Audio Jack','GPS','Loudspeaker','Network','Network Support','VoLTE']\n",
        "    columns_to_retain = list(set(data.columns)-set(columns_to_remove))\n",
        "    data = data[columns_to_retain]\n",
        "\n",
        "    # Multivalued:\n",
        "    columns_to_remove = ['Architecture','Launch Date','Audio Jack','GPS','Loudspeaker','Network','Network Support','VoLTE', 'Custom UI']\n",
        "    columns_to_retain = list(set(data.columns)-set(columns_to_remove))\n",
        "    data = data[columns_to_retain]\n",
        "\n",
        "    # Not much important\n",
        "    columns_to_remove = ['Bluetooth', 'Settings','Wi-Fi','Wi-Fi Features']\n",
        "    columns_to_retain = list(set(data.columns)-set(columns_to_remove))\n",
        "    data = data[columns_to_retain]\n",
        "    \n",
        "    return data"
      ],
      "execution_count": 0,
      "outputs": []
    },
    {
      "metadata": {
        "_uuid": "f757889d748e2110754f73d33fb9d39d32a9c991",
        "id": "DFq2LJeSrTec",
        "colab_type": "text"
      },
      "cell_type": "markdown",
      "source": [
        "# Removing features"
      ]
    },
    {
      "metadata": {
        "trusted": true,
        "_uuid": "c0aa5c841e4039a0973d426662da4c18518b67ac",
        "id": "avxbDQTtrTee",
        "colab_type": "code",
        "colab": {}
      },
      "cell_type": "code",
      "source": [
        "train = data_clean(train)\n",
        "test = data_clean(test)"
      ],
      "execution_count": 0,
      "outputs": []
    },
    {
      "metadata": {
        "_uuid": "03ff2b7a2c5744a4d1c405fe7ae37d6b96f44cb7",
        "id": "TVNt95bWrTem",
        "colab_type": "text"
      },
      "cell_type": "markdown",
      "source": [
        "removing all those data points in which more than 15 features are missing "
      ]
    },
    {
      "metadata": {
        "trusted": true,
        "_uuid": "c30e27e406d7e18bd82d3fcedd65da1cb3530131",
        "id": "7JLmehoLrTep",
        "colab_type": "code",
        "colab": {}
      },
      "cell_type": "code",
      "source": [
        "train = train[(train.isnull().sum(axis=1) <= 15)]\n",
        "# You shouldn't remove data points from test set\n",
        "#test = test[(test.isnull().sum(axis=1) <= 15)]"
      ],
      "execution_count": 0,
      "outputs": []
    },
    {
      "metadata": {
        "trusted": true,
        "_uuid": "6e627ee78512966f63af3b36c3c793e75054c355",
        "id": "G8kDNBIBrTev",
        "colab_type": "code",
        "colab": {
          "base_uri": "https://localhost:8080/",
          "height": 85
        },
        "outputId": "791e50e8-43ce-4440-864e-ddc0136a4591"
      },
      "cell_type": "code",
      "source": [
        "# check the number of features and data points in train\n",
        "print(\"Number of data points in train: %d\" % train.shape[0])\n",
        "print(\"Number of features in train: %d\" % train.shape[1])\n",
        "\n",
        "# check the number of features and data points in test\n",
        "print(\"Number of data points in test: %d\" % test.shape[0])\n",
        "print(\"Number of features in test: %d\" % test.shape[1])"
      ],
      "execution_count": 6,
      "outputs": [
        {
          "output_type": "stream",
          "text": [
            "Number of data points in train: 341\n",
            "Number of features in train: 47\n",
            "Number of data points in test: 119\n",
            "Number of features in test: 46\n"
          ],
          "name": "stdout"
        }
      ]
    },
    {
      "metadata": {
        "_uuid": "1dc6244782716eff9b498afcf9daf29f5bcf3be5",
        "id": "pHU18H7WrTe2",
        "colab_type": "text"
      },
      "cell_type": "markdown",
      "source": [
        "# Filling Missing values"
      ]
    },
    {
      "metadata": {
        "trusted": true,
        "_uuid": "5468f903b26c9f1cabf942356929a4f2fd1726fb",
        "id": "LhdQjvLfrTe8",
        "colab_type": "code",
        "colab": {}
      },
      "cell_type": "code",
      "source": [
        "def for_integer(test):\n",
        "    try:\n",
        "        test = test.strip()\n",
        "        return int(test.split(' ')[0])\n",
        "    except IOError:\n",
        "           pass\n",
        "    except ValueError:\n",
        "        pass\n",
        "    except:\n",
        "        pass\n",
        "\n",
        "def for_string(test):\n",
        "    try:\n",
        "        test = test.strip()\n",
        "        return (test.split(' ')[0])\n",
        "    except IOError:\n",
        "        pass\n",
        "    except ValueError:\n",
        "        pass\n",
        "    except:\n",
        "        pass\n",
        "\n",
        "def for_float(test):\n",
        "    try:\n",
        "        test = test.strip()\n",
        "        return float(test.split(' ')[0])\n",
        "    except IOError:\n",
        "        pass\n",
        "    except ValueError:\n",
        "        pass\n",
        "    except:\n",
        "        pass\n",
        "def find_freq(test):\n",
        "    try:\n",
        "        test = test.strip()\n",
        "        test = test.split(' ')\n",
        "        if test[2][0] == '(':\n",
        "            return float(test[2][1:])\n",
        "        return float(test[2])\n",
        "    except IOError:\n",
        "        pass\n",
        "    except ValueError:\n",
        "        pass\n",
        "    except:\n",
        "        pass\n",
        "\n",
        "    \n",
        "def for_Internal_Memory(test):\n",
        "    try:\n",
        "        test = test.strip()\n",
        "        test = test.split(' ')\n",
        "        if test[1] == 'GB':\n",
        "            return int(test[0])\n",
        "        if test[1] == 'MB':\n",
        "#             print(\"here\")\n",
        "            return (int(test[0]) * 0.001)\n",
        "    except IOError:\n",
        "           pass\n",
        "    except ValueError:\n",
        "        pass\n",
        "    except:\n",
        "        pass\n",
        "    \n",
        "def find_freq(test):\n",
        "    try:\n",
        "        test = test.strip()\n",
        "        test = test.split(' ')\n",
        "        if test[2][0] == '(':\n",
        "            return float(test[2][1:])\n",
        "        return float(test[2])\n",
        "    except IOError:\n",
        "        pass\n",
        "    except ValueError:\n",
        "        pass\n",
        "    except:\n",
        "        pass\n"
      ],
      "execution_count": 0,
      "outputs": []
    },
    {
      "metadata": {
        "trusted": true,
        "_uuid": "55619d7bc2a8ef81167aba39e9b89814f42a33d3",
        "id": "B6LK-_ZirTfK",
        "colab_type": "code",
        "colab": {}
      },
      "cell_type": "code",
      "source": [
        "def data_clean_2(x):\n",
        "    data = x.copy()\n",
        "    \n",
        "    data['Capacity'] = data['Capacity'].apply(for_integer)\n",
        "\n",
        "    data['Height'] = data['Height'].apply(for_float)\n",
        "    data['Height'] = data['Height'].fillna(data['Height'].mean())\n",
        "\n",
        "    data['Internal Memory'] = data['Internal Memory'].apply(for_Internal_Memory)\n",
        "\n",
        "    data['Pixel Density'] = data['Pixel Density'].apply(for_integer)\n",
        "\n",
        "    data['Internal Memory'] = data['Internal Memory'].fillna(data['Internal Memory'].median())\n",
        "    data['Internal Memory'] = data['Internal Memory'].astype(int)\n",
        "\n",
        "    data['RAM'] = data['RAM'].apply(for_integer)\n",
        "    data['RAM'] = data['RAM'].fillna(data['RAM'].median())\n",
        "    data['RAM'] = data['RAM'].astype(int)\n",
        "\n",
        "    data['Resolution'] = data['Resolution'].apply(for_integer)\n",
        "    data['Resolution'] = data['Resolution'].fillna(data['Resolution'].median())\n",
        "    data['Resolution'] = data['Resolution'].astype(int)\n",
        "\n",
        "    data['Screen Size'] = data['Screen Size'].apply(for_float)\n",
        "\n",
        "    data['Thickness'] = data['Thickness'].apply(for_float)\n",
        "    data['Thickness'] = data['Thickness'].fillna(data['Thickness'].mean())\n",
        "    data['Thickness'] = data['Thickness'].round(2)\n",
        "\n",
        "    data['Type'] = data['Type'].fillna('Li-Polymer')\n",
        "\n",
        "    data['Screen to Body Ratio (calculated)'] = data['Screen to Body Ratio (calculated)'].apply(for_float)\n",
        "    data['Screen to Body Ratio (calculated)'] = data['Screen to Body Ratio (calculated)'].fillna(data['Screen to Body Ratio (calculated)'].mean())\n",
        "    data['Screen to Body Ratio (calculated)'] = data['Screen to Body Ratio (calculated)'].round(2)\n",
        "\n",
        "    data['Width'] = data['Width'].apply(for_float)\n",
        "    data['Width'] = data['Width'].fillna(data['Width'].mean())\n",
        "    data['Width'] = data['Width'].round(2)\n",
        "\n",
        "    data['Flash'][data['Flash'].isna() == True] = \"Other\"\n",
        "\n",
        "    data['User Replaceable'][data['User Replaceable'].isna() == True] = \"Other\"\n",
        "\n",
        "    data['Num_cores'] = data['Processor'].apply(for_string)\n",
        "    data['Num_cores'][data['Num_cores'].isna() == True] = \"Other\"\n",
        "\n",
        "\n",
        "    data['Processor_frequency'] = data['Processor'].apply(find_freq)\n",
        "    #because there is one entry with 208MHz values, to convert it to GHz\n",
        "    data['Processor_frequency'][data['Processor_frequency'] > 200] = 0.208\n",
        "    data['Processor_frequency'] = data['Processor_frequency'].fillna(data['Processor_frequency'].mean())\n",
        "    data['Processor_frequency'] = data['Processor_frequency'].round(2)\n",
        "\n",
        "    data['Camera Features'][data['Camera Features'].isna() == True] = \"Other\"\n",
        "\n",
        "    #simplifyig Operating System to os_name for simplicity\n",
        "    data['os_name'] = data['Operating System'].apply(for_string)\n",
        "    data['os_name'][data['os_name'].isna() == True] = \"Other\"\n",
        "\n",
        "    data['Sim1'] = data['SIM 1'].apply(for_string)\n",
        "\n",
        "    data['SIM Size'][data['SIM Size'].isna() == True] = \"Other\"\n",
        "\n",
        "    data['Image Resolution'][data['Image Resolution'].isna() == True] = \"Other\"\n",
        "\n",
        "    data['Fingerprint Sensor'][data['Fingerprint Sensor'].isna() == True] = \"Other\"\n",
        "\n",
        "    data['Expandable Memory'][data['Expandable Memory'].isna() == True] = \"No\"\n",
        "\n",
        "    data['Weight'] = data['Weight'].apply(for_integer)\n",
        "    data['Weight'] = data['Weight'].fillna(data['Weight'].mean())\n",
        "    data['Weight'] = data['Weight'].astype(int)\n",
        "\n",
        "    data['SIM 2'] = data['SIM 2'].apply(for_string)\n",
        "    data['SIM 2'][data['SIM 2'].isna() == True] = \"Other\"\n",
        "    \n",
        "    return data"
      ],
      "execution_count": 0,
      "outputs": []
    },
    {
      "metadata": {
        "trusted": true,
        "_uuid": "5ffbe35d804ad5b0b90d6f206e6936eb0ad67605",
        "id": "_wmapMhorTfU",
        "colab_type": "code",
        "colab": {
          "base_uri": "https://localhost:8080/",
          "height": 85
        },
        "outputId": "1551b2e2-9171-43e5-9360-89978dafa128"
      },
      "cell_type": "code",
      "source": [
        "train = data_clean_2(train)\n",
        "test = data_clean_2(test)\n",
        "\n",
        "# check the number of features and data points in train\n",
        "print(\"Number of data points in train: %d\" % train.shape[0])\n",
        "print(\"Number of features in train: %d\" % train.shape[1])\n",
        "\n",
        "# check the number of features and data points in test\n",
        "print(\"Number of data points in test: %d\" % test.shape[0])\n",
        "print(\"Number of features in test: %d\" % test.shape[1])"
      ],
      "execution_count": 9,
      "outputs": [
        {
          "output_type": "stream",
          "text": [
            "Number of data points in train: 341\n",
            "Number of features in train: 51\n",
            "Number of data points in test: 119\n",
            "Number of features in test: 50\n"
          ],
          "name": "stdout"
        }
      ]
    },
    {
      "metadata": {
        "_uuid": "59bc68fb4efe3f41a4f1b57bb10f88b0965840b7",
        "id": "jfl9csRzrTfb",
        "colab_type": "text"
      },
      "cell_type": "markdown",
      "source": [
        "Not very important feature"
      ]
    },
    {
      "metadata": {
        "trusted": true,
        "_uuid": "ed410a07b258b71688bfe594da9762d2e34ebc41",
        "id": "Bst1DhImrTfd",
        "colab_type": "code",
        "colab": {}
      },
      "cell_type": "code",
      "source": [
        "def data_clean_3(x):\n",
        "    \n",
        "    data = x.copy()\n",
        "\n",
        "    columns_to_remove = ['User Available Storage','SIM Size','Chipset','Processor','Autofocus','Aspect Ratio','Touch Screen',\n",
        "                        'Bezel-less display','Operating System','SIM 1','USB Connectivity','Other Sensors','Graphics','FM Radio',\n",
        "                        'NFC','Shooting Modes','Browser','Display Colour' ]\n",
        "\n",
        "    columns_to_retain = list(set(data.columns)-set(columns_to_remove))\n",
        "    data = data[columns_to_retain]\n",
        "\n",
        "\n",
        "    columns_to_remove = [ 'Screen Resolution','User Replaceable','Camera Features',\n",
        "                        'Thickness', 'Display Type']\n",
        "\n",
        "    columns_to_retain = list(set(data.columns)-set(columns_to_remove))\n",
        "    data = data[columns_to_retain]\n",
        "\n",
        "\n",
        "    columns_to_remove = ['Fingerprint Sensor', 'Flash', 'Rating Count', 'Review Count','Image Resolution','Type','Expandable Memory',\\\n",
        "                        'Colours','Width','Model']\n",
        "    columns_to_retain = list(set(data.columns)-set(columns_to_remove))\n",
        "    data = data[columns_to_retain]\n",
        "\n",
        "    return data"
      ],
      "execution_count": 0,
      "outputs": []
    },
    {
      "metadata": {
        "trusted": true,
        "_uuid": "af939785ef572c31553c292ec6e67cac103dd17f",
        "id": "WSWL1Ta4rTfk",
        "colab_type": "code",
        "colab": {
          "base_uri": "https://localhost:8080/",
          "height": 85
        },
        "outputId": "3a5576bc-4a62-4378-9e37-35456ffd0a02"
      },
      "cell_type": "code",
      "source": [
        "train = data_clean_3(train)\n",
        "test = data_clean_3(test)\n",
        "\n",
        "# check the number of features and data points in train\n",
        "print(\"Number of data points in train: %d\" % train.shape[0])\n",
        "print(\"Number of features in train: %d\" % train.shape[1])\n",
        "\n",
        "# check the number of features and data points in test\n",
        "print(\"Number of data points in test: %d\" % test.shape[0])\n",
        "print(\"Number of features in test: %d\" % test.shape[1])"
      ],
      "execution_count": 11,
      "outputs": [
        {
          "output_type": "stream",
          "text": [
            "Number of data points in train: 341\n",
            "Number of features in train: 18\n",
            "Number of data points in test: 119\n",
            "Number of features in test: 17\n"
          ],
          "name": "stdout"
        }
      ]
    },
    {
      "metadata": {
        "trusted": true,
        "_uuid": "6a442fdfdf7869f78cba75afbee013f4ea860de7",
        "id": "SJ73GsxNrTfq",
        "colab_type": "code",
        "colab": {
          "base_uri": "https://localhost:8080/",
          "height": 544
        },
        "outputId": "dd327ebd-c68a-48be-d9f7-27e0bcddff63"
      },
      "cell_type": "code",
      "source": [
        "# one hot encoding\n",
        "\n",
        "train_ids = train['PhoneId']\n",
        "test_ids = test['PhoneId']\n",
        "\n",
        "cols = list(test.columns)\n",
        "cols.remove('PhoneId')\n",
        "cols.insert(0, 'PhoneId')\n",
        "\n",
        "combined = pd.concat([train.drop('Rating', axis=1)[cols], test[cols]])\n",
        "print(combined.shape)\n",
        "print(combined.columns)\n",
        "\n",
        "combined = pd.get_dummies(combined)\n",
        "print(combined.shape)\n",
        "print(combined.columns)\n",
        "\n",
        "train_new = combined[combined['PhoneId'].isin(train_ids)]\n",
        "test_new = combined[combined['PhoneId'].isin(test_ids)]"
      ],
      "execution_count": 12,
      "outputs": [
        {
          "output_type": "stream",
          "text": [
            "(460, 17)\n",
            "Index(['PhoneId', 'SIM Slot(s)', 'Resolution', 'Sim1', 'Capacity',\n",
            "       'Internal Memory', 'Pixel Density', 'RAM', 'Num_cores', 'os_name',\n",
            "       'Weight', 'Processor_frequency', 'Brand', 'SIM 2', 'Height',\n",
            "       'Screen to Body Ratio (calculated)', 'Screen Size'],\n",
            "      dtype='object')\n",
            "(460, 87)\n",
            "Index(['PhoneId', 'Resolution', 'Capacity', 'Internal Memory', 'Pixel Density',\n",
            "       'RAM', 'Weight', 'Processor_frequency', 'Height',\n",
            "       'Screen to Body Ratio (calculated)', 'Screen Size',\n",
            "       'SIM Slot(s)_Dual SIM, GSM+CDMA', 'SIM Slot(s)_Dual SIM, GSM+GSM',\n",
            "       'SIM Slot(s)_Dual SIM, GSM+GSM, Dual VoLTE',\n",
            "       'SIM Slot(s)_Single SIM, GSM', 'Sim1_2G', 'Sim1_3G', 'Sim1_4G',\n",
            "       'Num_cores_312', 'Num_cores_Deca', 'Num_cores_Dual', 'Num_cores_Hexa',\n",
            "       'Num_cores_Octa', 'Num_cores_Other', 'Num_cores_Quad',\n",
            "       'Num_cores_Tru-Octa', 'os_name_Android', 'os_name_Blackberry',\n",
            "       'os_name_KAI', 'os_name_Nokia', 'os_name_Other', 'os_name_Tizen',\n",
            "       'os_name_iOS', 'Brand_10.or', 'Brand_Apple', 'Brand_Asus',\n",
            "       'Brand_Billion', 'Brand_Blackberry', 'Brand_Comio', 'Brand_Coolpad',\n",
            "       'Brand_Do', 'Brand_Gionee', 'Brand_Google', 'Brand_HTC', 'Brand_Honor',\n",
            "       'Brand_Huawei', 'Brand_InFocus', 'Brand_Infinix', 'Brand_Intex',\n",
            "       'Brand_Itel', 'Brand_Jivi', 'Brand_Karbonn', 'Brand_LG', 'Brand_Lava',\n",
            "       'Brand_LeEco', 'Brand_Lenovo', 'Brand_Lephone', 'Brand_Lyf',\n",
            "       'Brand_Meizu', 'Brand_Micromax', 'Brand_Mobiistar', 'Brand_Moto',\n",
            "       'Brand_Motorola', 'Brand_Nokia', 'Brand_Nubia', 'Brand_OPPO',\n",
            "       'Brand_OnePlus', 'Brand_Oppo', 'Brand_Panasonic', 'Brand_Razer',\n",
            "       'Brand_Realme', 'Brand_Reliance', 'Brand_Samsung', 'Brand_Sony',\n",
            "       'Brand_Spice', 'Brand_Tecno', 'Brand_Ulefone', 'Brand_VOTO',\n",
            "       'Brand_Vivo', 'Brand_Xiaomi', 'Brand_Xiaomi Poco', 'Brand_Yu',\n",
            "       'Brand_iVooMi', 'SIM 2_2G', 'SIM 2_3G', 'SIM 2_4G', 'SIM 2_Other'],\n",
            "      dtype='object')\n"
          ],
          "name": "stdout"
        }
      ]
    },
    {
      "metadata": {
        "trusted": true,
        "_uuid": "45beaafa184da0d51d427d91141eac53a66720d3",
        "id": "i_KUyKysrTfw",
        "colab_type": "code",
        "colab": {}
      },
      "cell_type": "code",
      "source": [
        "train_new = train_new.merge(train[['PhoneId', 'Rating']], on='PhoneId')"
      ],
      "execution_count": 0,
      "outputs": []
    },
    {
      "metadata": {
        "trusted": true,
        "_uuid": "213da01c64113d270d5de73839fbdc5aa9a3e7da",
        "id": "8vIEDSHBrTf3",
        "colab_type": "code",
        "colab": {
          "base_uri": "https://localhost:8080/",
          "height": 85
        },
        "outputId": "eb712452-4f1d-4270-bab3-624a54d65c19"
      },
      "cell_type": "code",
      "source": [
        "# check the number of features and data points in train\n",
        "print(\"Number of data points in train: %d\" % train_new.shape[0])\n",
        "print(\"Number of features in train: %d\" % train_new.shape[1])\n",
        "\n",
        "# check the number of features and data points in test\n",
        "print(\"Number of data points in test: %d\" % test_new.shape[0])\n",
        "print(\"Number of features in test: %d\" % test_new.shape[1])"
      ],
      "execution_count": 14,
      "outputs": [
        {
          "output_type": "stream",
          "text": [
            "Number of data points in train: 341\n",
            "Number of features in train: 88\n",
            "Number of data points in test: 119\n",
            "Number of features in test: 87\n"
          ],
          "name": "stdout"
        }
      ]
    },
    {
      "metadata": {
        "trusted": true,
        "_uuid": "faf579d14c1fd0a80e82fb2e262b6432266c210f",
        "id": "1Hf3f3cGrTgB",
        "colab_type": "code",
        "colab": {
          "base_uri": "https://localhost:8080/",
          "height": 287
        },
        "outputId": "2c21b8ea-f2b1-4dc5-ca95-823eaa97c249"
      },
      "cell_type": "code",
      "source": [
        "train_new.head()"
      ],
      "execution_count": 15,
      "outputs": [
        {
          "output_type": "execute_result",
          "data": {
            "text/html": [
              "<div>\n",
              "<style scoped>\n",
              "    .dataframe tbody tr th:only-of-type {\n",
              "        vertical-align: middle;\n",
              "    }\n",
              "\n",
              "    .dataframe tbody tr th {\n",
              "        vertical-align: top;\n",
              "    }\n",
              "\n",
              "    .dataframe thead th {\n",
              "        text-align: right;\n",
              "    }\n",
              "</style>\n",
              "<table border=\"1\" class=\"dataframe\">\n",
              "  <thead>\n",
              "    <tr style=\"text-align: right;\">\n",
              "      <th></th>\n",
              "      <th>PhoneId</th>\n",
              "      <th>Resolution</th>\n",
              "      <th>Capacity</th>\n",
              "      <th>Internal Memory</th>\n",
              "      <th>Pixel Density</th>\n",
              "      <th>RAM</th>\n",
              "      <th>Weight</th>\n",
              "      <th>Processor_frequency</th>\n",
              "      <th>Height</th>\n",
              "      <th>Screen to Body Ratio (calculated)</th>\n",
              "      <th>...</th>\n",
              "      <th>Brand_Vivo</th>\n",
              "      <th>Brand_Xiaomi</th>\n",
              "      <th>Brand_Xiaomi Poco</th>\n",
              "      <th>Brand_Yu</th>\n",
              "      <th>Brand_iVooMi</th>\n",
              "      <th>SIM 2_2G</th>\n",
              "      <th>SIM 2_3G</th>\n",
              "      <th>SIM 2_4G</th>\n",
              "      <th>SIM 2_Other</th>\n",
              "      <th>Rating</th>\n",
              "    </tr>\n",
              "  </thead>\n",
              "  <tbody>\n",
              "    <tr>\n",
              "      <th>0</th>\n",
              "      <td>0</td>\n",
              "      <td>20</td>\n",
              "      <td>4000</td>\n",
              "      <td>64</td>\n",
              "      <td>403</td>\n",
              "      <td>4</td>\n",
              "      <td>182</td>\n",
              "      <td>1.8</td>\n",
              "      <td>157.9</td>\n",
              "      <td>80.68</td>\n",
              "      <td>...</td>\n",
              "      <td>0</td>\n",
              "      <td>1</td>\n",
              "      <td>0</td>\n",
              "      <td>0</td>\n",
              "      <td>0</td>\n",
              "      <td>0</td>\n",
              "      <td>0</td>\n",
              "      <td>1</td>\n",
              "      <td>0</td>\n",
              "      <td>4.5</td>\n",
              "    </tr>\n",
              "    <tr>\n",
              "      <th>1</th>\n",
              "      <td>1</td>\n",
              "      <td>8</td>\n",
              "      <td>4230</td>\n",
              "      <td>32</td>\n",
              "      <td>271</td>\n",
              "      <td>3</td>\n",
              "      <td>168</td>\n",
              "      <td>1.8</td>\n",
              "      <td>156.2</td>\n",
              "      <td>80.85</td>\n",
              "      <td>...</td>\n",
              "      <td>0</td>\n",
              "      <td>0</td>\n",
              "      <td>0</td>\n",
              "      <td>0</td>\n",
              "      <td>0</td>\n",
              "      <td>0</td>\n",
              "      <td>0</td>\n",
              "      <td>1</td>\n",
              "      <td>0</td>\n",
              "      <td>4.5</td>\n",
              "    </tr>\n",
              "    <tr>\n",
              "      <th>2</th>\n",
              "      <td>2</td>\n",
              "      <td>25</td>\n",
              "      <td>3500</td>\n",
              "      <td>32</td>\n",
              "      <td>409</td>\n",
              "      <td>3</td>\n",
              "      <td>168</td>\n",
              "      <td>2.1</td>\n",
              "      <td>157.0</td>\n",
              "      <td>83.68</td>\n",
              "      <td>...</td>\n",
              "      <td>0</td>\n",
              "      <td>0</td>\n",
              "      <td>0</td>\n",
              "      <td>0</td>\n",
              "      <td>0</td>\n",
              "      <td>0</td>\n",
              "      <td>0</td>\n",
              "      <td>1</td>\n",
              "      <td>0</td>\n",
              "      <td>4.4</td>\n",
              "    </tr>\n",
              "    <tr>\n",
              "      <th>3</th>\n",
              "      <td>4</td>\n",
              "      <td>24</td>\n",
              "      <td>3300</td>\n",
              "      <td>64</td>\n",
              "      <td>411</td>\n",
              "      <td>4</td>\n",
              "      <td>169</td>\n",
              "      <td>2.2</td>\n",
              "      <td>159.8</td>\n",
              "      <td>74.78</td>\n",
              "      <td>...</td>\n",
              "      <td>0</td>\n",
              "      <td>0</td>\n",
              "      <td>0</td>\n",
              "      <td>0</td>\n",
              "      <td>0</td>\n",
              "      <td>0</td>\n",
              "      <td>0</td>\n",
              "      <td>1</td>\n",
              "      <td>0</td>\n",
              "      <td>4.3</td>\n",
              "    </tr>\n",
              "    <tr>\n",
              "      <th>4</th>\n",
              "      <td>5</td>\n",
              "      <td>16</td>\n",
              "      <td>3750</td>\n",
              "      <td>64</td>\n",
              "      <td>396</td>\n",
              "      <td>4</td>\n",
              "      <td>175</td>\n",
              "      <td>2.2</td>\n",
              "      <td>160.4</td>\n",
              "      <td>84.23</td>\n",
              "      <td>...</td>\n",
              "      <td>0</td>\n",
              "      <td>0</td>\n",
              "      <td>0</td>\n",
              "      <td>0</td>\n",
              "      <td>0</td>\n",
              "      <td>0</td>\n",
              "      <td>0</td>\n",
              "      <td>1</td>\n",
              "      <td>0</td>\n",
              "      <td>4.4</td>\n",
              "    </tr>\n",
              "  </tbody>\n",
              "</table>\n",
              "<p>5 rows × 88 columns</p>\n",
              "</div>"
            ],
            "text/plain": [
              "   PhoneId  Resolution  Capacity  Internal Memory  Pixel Density  RAM  Weight  \\\n",
              "0        0          20      4000               64            403    4     182   \n",
              "1        1           8      4230               32            271    3     168   \n",
              "2        2          25      3500               32            409    3     168   \n",
              "3        4          24      3300               64            411    4     169   \n",
              "4        5          16      3750               64            396    4     175   \n",
              "\n",
              "   Processor_frequency  Height  Screen to Body Ratio (calculated)   ...    \\\n",
              "0                  1.8   157.9                              80.68   ...     \n",
              "1                  1.8   156.2                              80.85   ...     \n",
              "2                  2.1   157.0                              83.68   ...     \n",
              "3                  2.2   159.8                              74.78   ...     \n",
              "4                  2.2   160.4                              84.23   ...     \n",
              "\n",
              "   Brand_Vivo  Brand_Xiaomi  Brand_Xiaomi Poco  Brand_Yu  Brand_iVooMi  \\\n",
              "0           0             1                  0         0             0   \n",
              "1           0             0                  0         0             0   \n",
              "2           0             0                  0         0             0   \n",
              "3           0             0                  0         0             0   \n",
              "4           0             0                  0         0             0   \n",
              "\n",
              "   SIM 2_2G  SIM 2_3G  SIM 2_4G  SIM 2_Other  Rating  \n",
              "0         0         0         1            0     4.5  \n",
              "1         0         0         1            0     4.5  \n",
              "2         0         0         1            0     4.4  \n",
              "3         0         0         1            0     4.3  \n",
              "4         0         0         1            0     4.4  \n",
              "\n",
              "[5 rows x 88 columns]"
            ]
          },
          "metadata": {
            "tags": []
          },
          "execution_count": 15
        }
      ]
    },
    {
      "metadata": {
        "trusted": true,
        "_uuid": "c02ecb3c05a69a0282b0338006fa4d355ac9de18",
        "id": "vuJ8LVRSrTgI",
        "colab_type": "code",
        "colab": {
          "base_uri": "https://localhost:8080/",
          "height": 287
        },
        "outputId": "5de8fbd5-de62-4720-db10-08fba2a75eb2"
      },
      "cell_type": "code",
      "source": [
        "test_new.head()"
      ],
      "execution_count": 16,
      "outputs": [
        {
          "output_type": "execute_result",
          "data": {
            "text/html": [
              "<div>\n",
              "<style scoped>\n",
              "    .dataframe tbody tr th:only-of-type {\n",
              "        vertical-align: middle;\n",
              "    }\n",
              "\n",
              "    .dataframe tbody tr th {\n",
              "        vertical-align: top;\n",
              "    }\n",
              "\n",
              "    .dataframe thead th {\n",
              "        text-align: right;\n",
              "    }\n",
              "</style>\n",
              "<table border=\"1\" class=\"dataframe\">\n",
              "  <thead>\n",
              "    <tr style=\"text-align: right;\">\n",
              "      <th></th>\n",
              "      <th>PhoneId</th>\n",
              "      <th>Resolution</th>\n",
              "      <th>Capacity</th>\n",
              "      <th>Internal Memory</th>\n",
              "      <th>Pixel Density</th>\n",
              "      <th>RAM</th>\n",
              "      <th>Weight</th>\n",
              "      <th>Processor_frequency</th>\n",
              "      <th>Height</th>\n",
              "      <th>Screen to Body Ratio (calculated)</th>\n",
              "      <th>...</th>\n",
              "      <th>Brand_VOTO</th>\n",
              "      <th>Brand_Vivo</th>\n",
              "      <th>Brand_Xiaomi</th>\n",
              "      <th>Brand_Xiaomi Poco</th>\n",
              "      <th>Brand_Yu</th>\n",
              "      <th>Brand_iVooMi</th>\n",
              "      <th>SIM 2_2G</th>\n",
              "      <th>SIM 2_3G</th>\n",
              "      <th>SIM 2_4G</th>\n",
              "      <th>SIM 2_Other</th>\n",
              "    </tr>\n",
              "  </thead>\n",
              "  <tbody>\n",
              "    <tr>\n",
              "      <th>0</th>\n",
              "      <td>3</td>\n",
              "      <td>5</td>\n",
              "      <td>4230</td>\n",
              "      <td>16</td>\n",
              "      <td>271</td>\n",
              "      <td>2</td>\n",
              "      <td>168</td>\n",
              "      <td>1.8</td>\n",
              "      <td>156.2</td>\n",
              "      <td>80.85</td>\n",
              "      <td>...</td>\n",
              "      <td>0</td>\n",
              "      <td>0</td>\n",
              "      <td>0</td>\n",
              "      <td>0</td>\n",
              "      <td>0</td>\n",
              "      <td>0</td>\n",
              "      <td>0</td>\n",
              "      <td>0</td>\n",
              "      <td>1</td>\n",
              "      <td>0</td>\n",
              "    </tr>\n",
              "    <tr>\n",
              "      <th>1</th>\n",
              "      <td>11</td>\n",
              "      <td>12</td>\n",
              "      <td>5000</td>\n",
              "      <td>64</td>\n",
              "      <td>402</td>\n",
              "      <td>4</td>\n",
              "      <td>205</td>\n",
              "      <td>1.8</td>\n",
              "      <td>156.0</td>\n",
              "      <td>81.60</td>\n",
              "      <td>...</td>\n",
              "      <td>0</td>\n",
              "      <td>0</td>\n",
              "      <td>0</td>\n",
              "      <td>0</td>\n",
              "      <td>0</td>\n",
              "      <td>0</td>\n",
              "      <td>0</td>\n",
              "      <td>0</td>\n",
              "      <td>1</td>\n",
              "      <td>0</td>\n",
              "    </tr>\n",
              "    <tr>\n",
              "      <th>2</th>\n",
              "      <td>13</td>\n",
              "      <td>25</td>\n",
              "      <td>3500</td>\n",
              "      <td>64</td>\n",
              "      <td>409</td>\n",
              "      <td>6</td>\n",
              "      <td>169</td>\n",
              "      <td>2.0</td>\n",
              "      <td>156.7</td>\n",
              "      <td>83.84</td>\n",
              "      <td>...</td>\n",
              "      <td>0</td>\n",
              "      <td>0</td>\n",
              "      <td>0</td>\n",
              "      <td>0</td>\n",
              "      <td>0</td>\n",
              "      <td>0</td>\n",
              "      <td>0</td>\n",
              "      <td>0</td>\n",
              "      <td>1</td>\n",
              "      <td>0</td>\n",
              "    </tr>\n",
              "    <tr>\n",
              "      <th>3</th>\n",
              "      <td>16</td>\n",
              "      <td>16</td>\n",
              "      <td>3500</td>\n",
              "      <td>64</td>\n",
              "      <td>409</td>\n",
              "      <td>4</td>\n",
              "      <td>169</td>\n",
              "      <td>2.0</td>\n",
              "      <td>156.7</td>\n",
              "      <td>83.84</td>\n",
              "      <td>...</td>\n",
              "      <td>0</td>\n",
              "      <td>0</td>\n",
              "      <td>0</td>\n",
              "      <td>0</td>\n",
              "      <td>0</td>\n",
              "      <td>0</td>\n",
              "      <td>0</td>\n",
              "      <td>0</td>\n",
              "      <td>1</td>\n",
              "      <td>0</td>\n",
              "    </tr>\n",
              "    <tr>\n",
              "      <th>4</th>\n",
              "      <td>19</td>\n",
              "      <td>20</td>\n",
              "      <td>4000</td>\n",
              "      <td>64</td>\n",
              "      <td>403</td>\n",
              "      <td>4</td>\n",
              "      <td>181</td>\n",
              "      <td>1.8</td>\n",
              "      <td>158.6</td>\n",
              "      <td>77.43</td>\n",
              "      <td>...</td>\n",
              "      <td>0</td>\n",
              "      <td>0</td>\n",
              "      <td>1</td>\n",
              "      <td>0</td>\n",
              "      <td>0</td>\n",
              "      <td>0</td>\n",
              "      <td>0</td>\n",
              "      <td>0</td>\n",
              "      <td>1</td>\n",
              "      <td>0</td>\n",
              "    </tr>\n",
              "  </tbody>\n",
              "</table>\n",
              "<p>5 rows × 87 columns</p>\n",
              "</div>"
            ],
            "text/plain": [
              "   PhoneId  Resolution  Capacity  Internal Memory  Pixel Density  RAM  Weight  \\\n",
              "0        3           5      4230               16            271    2     168   \n",
              "1       11          12      5000               64            402    4     205   \n",
              "2       13          25      3500               64            409    6     169   \n",
              "3       16          16      3500               64            409    4     169   \n",
              "4       19          20      4000               64            403    4     181   \n",
              "\n",
              "   Processor_frequency  Height  Screen to Body Ratio (calculated)  \\\n",
              "0                  1.8   156.2                              80.85   \n",
              "1                  1.8   156.0                              81.60   \n",
              "2                  2.0   156.7                              83.84   \n",
              "3                  2.0   156.7                              83.84   \n",
              "4                  1.8   158.6                              77.43   \n",
              "\n",
              "      ...       Brand_VOTO  Brand_Vivo  Brand_Xiaomi  Brand_Xiaomi Poco  \\\n",
              "0     ...                0           0             0                  0   \n",
              "1     ...                0           0             0                  0   \n",
              "2     ...                0           0             0                  0   \n",
              "3     ...                0           0             0                  0   \n",
              "4     ...                0           0             1                  0   \n",
              "\n",
              "   Brand_Yu  Brand_iVooMi  SIM 2_2G  SIM 2_3G  SIM 2_4G  SIM 2_Other  \n",
              "0         0             0         0         0         1            0  \n",
              "1         0             0         0         0         1            0  \n",
              "2         0             0         0         0         1            0  \n",
              "3         0             0         0         0         1            0  \n",
              "4         0             0         0         0         1            0  \n",
              "\n",
              "[5 rows x 87 columns]"
            ]
          },
          "metadata": {
            "tags": []
          },
          "execution_count": 16
        }
      ]
    },
    {
      "metadata": {
        "_uuid": "f00de7dbc7a2cc5cc12acf26700c1f91ce238f26",
        "id": "GNvEE_l-rTgR",
        "colab_type": "text"
      },
      "cell_type": "markdown",
      "source": [
        "## Dummy Solution"
      ]
    },
    {
      "metadata": {
        "trusted": true,
        "_uuid": "aa4085d741d5900d4c6937663ff3783fcf13ec9e",
        "id": "PICgnwwPrTgU",
        "colab_type": "code",
        "colab": {}
      },
      "cell_type": "code",
      "source": [
        "X = train_new.drop(['Rating','PhoneId','SIM 2_3G','Sim1_3G','os_name_Blackberry','os_name_Tizen','os_name_KAI','Num_cores_Deca','SIM Slot(s)_Dual SIM, GSM+CDMA','Brand_Lyf','Brand_Karbonn','Brand_Jivi','Brand_Lephone','Brand_LG','Brand_Micromax','Brand_Reliance', 'Brand_Mobiistar', 'Brand_Nubia', 'Brand_Razer', 'Brand_Spice', 'Brand_Ulefone', 'Brand_Yu', 'Brand_VOTO', 'Brand_Do', 'Brand_InFocus', 'Brand_Intex', 'Brand_HTC', 'Brand_Coolpad', 'Brand_Billion', 'Brand_iVooMi', 'Brand_10.or','Brand_Blackberry'], axis=1)"
      ],
      "execution_count": 0,
      "outputs": []
    },
    {
      "metadata": {
        "trusted": true,
        "_uuid": "70711bb7a02429879a39f8bb700d94837a8cae31",
        "id": "6YBj1r4MrTge",
        "colab_type": "code",
        "colab": {}
      },
      "cell_type": "code",
      "source": [
        "X_test = test_new.drop(['PhoneId','SIM 2_3G','Sim1_3G','os_name_Blackberry','os_name_Tizen','os_name_KAI','Num_cores_Deca','SIM Slot(s)_Dual SIM, GSM+CDMA', 'Brand_Lyf','Brand_Karbonn','Brand_Jivi','Brand_Lephone','Brand_LG','Brand_Micromax','Brand_Reliance', 'Brand_Mobiistar', 'Brand_Nubia', 'Brand_Razer', 'Brand_Spice', 'Brand_Ulefone', 'Brand_Yu', 'Brand_VOTO', 'Brand_Do', 'Brand_InFocus', 'Brand_Intex', 'Brand_HTC', 'Brand_Coolpad', 'Brand_Billion', 'Brand_iVooMi', 'Brand_10.or','Brand_Blackberry'], axis=1)"
      ],
      "execution_count": 0,
      "outputs": []
    },
    {
      "metadata": {
        "trusted": true,
        "_uuid": "5e6f5e6133273225c4c8415a51110099751fc703",
        "scrolled": false,
        "id": "ovdhViEbrTgm",
        "colab_type": "code",
        "colab": {
          "base_uri": "https://localhost:8080/",
          "height": 34
        },
        "outputId": "f470b121-ef4e-4c5f-e729-8af4b8d9fc3f"
      },
      "cell_type": "code",
      "source": [
        "X.shape"
      ],
      "execution_count": 19,
      "outputs": [
        {
          "output_type": "execute_result",
          "data": {
            "text/plain": [
              "(341, 56)"
            ]
          },
          "metadata": {
            "tags": []
          },
          "execution_count": 19
        }
      ]
    },
    {
      "metadata": {
        "trusted": true,
        "_uuid": "d98b7e8bf80ade7fbc20dd4f3b023bafe42ab67f",
        "id": "raRgrEf5rTg1",
        "colab_type": "code",
        "colab": {}
      },
      "cell_type": "code",
      "source": [
        "X['RAM'] = X['RAM'].map(lambda x: 0 if(x<2 or x>511) else 1)\n",
        "X['Pixel Density'] = X['Pixel Density'].map(lambda x: 0 if x<234 else 1)\n",
        "X['Weight'] = X['Weight'].map(lambda x: 0 if x>160 else 1)\n",
        "X['Height'] = X['Height'].map(lambda x: 0 if (x>156.5 and x<=157.9) else 1)\n",
        "X['Resolution'] = X['Resolution'].map(lambda x: 1 if x>8 else 0)\n",
        "X['Screen to Body Ratio (calculated)'] = X['Screen to Body Ratio (calculated)'].map(lambda x: 1 if x>79.8 else 0)\n",
        "X['Screen Size'] = X['Screen Size'].map(lambda x: 0 if x<5.6 else 1)\n",
        "X['Capacity'] = X['Capacity'].map(lambda x:1 )\n",
        "X['Internal Memory'] = X['Internal Memory'].map(lambda x:1 if x<32 else 0)\n",
        "X['Processor_frequency'] = X['Processor_frequency'].map(lambda x:0 if x<1.6 else 1)"
      ],
      "execution_count": 0,
      "outputs": []
    },
    {
      "metadata": {
        "trusted": true,
        "_uuid": "a18e197c90393ec81bffb5245584143ca9679cb6",
        "id": "7KJ4epFOrTg7",
        "colab_type": "code",
        "colab": {}
      },
      "cell_type": "code",
      "source": [
        "X_test['RAM'] = X_test['RAM'].map(lambda x: 0 if(x<2 or x>511) else 1)\n",
        "X_test['Pixel Density'] = X_test['Pixel Density'].map(lambda x: 0 if x<234 else 1)\n",
        "X_test['Weight'] = X_test['Weight'].map(lambda x: 0 if x>165 else 1)\n",
        "X_test['Height'] = X_test['Height'].map(lambda x: 0 if (x>156.5 and x<=157.9) else 1)\n",
        "X_test['Resolution'] = X_test['Resolution'].map(lambda x: 1 if x<8 else 0)\n",
        "X_test['Screen to Body Ratio (calculated)'] = X_test['Screen to Body Ratio (calculated)'].map(lambda x: 1 if x>80 else 0)\n",
        "X_test['Screen Size'] = X_test['Screen Size'].map(lambda x: 0 if x<=5.5 else 1)\n",
        "X_test['Capacity'] = X_test['Capacity'].map(lambda x:1 )    \n",
        "X_test['Internal Memory'] = X_test['Internal Memory'].map(lambda x:1 if x<32 else 0)\n",
        "X_test['Processor_frequency'] = X_test['Processor_frequency'].map(lambda x:0 if x<1.6 else 1)"
      ],
      "execution_count": 0,
      "outputs": []
    },
    {
      "metadata": {
        "trusted": true,
        "_uuid": "69f5cef03c9bd07e18f222b979ba34359c5d4c18",
        "id": "RZrRk3PvrThC",
        "colab_type": "code",
        "colab": {}
      },
      "cell_type": "code",
      "source": [
        "Y = train_new['Rating']\n",
        "Y = Y.map(lambda x: 0 if x<4.0 else 1)"
      ],
      "execution_count": 0,
      "outputs": []
    },
    {
      "metadata": {
        "trusted": true,
        "_uuid": "2cbce2b67429e69de987d0e0545c9b41cbb6bbbd",
        "id": "AL2dHAq_rThL",
        "colab_type": "code",
        "colab": {}
      },
      "cell_type": "code",
      "source": [
        "X_binarised_train = X.apply(pd.cut, bins=2, labels=[0,1])\n",
        "X_binarised_test = X_test.apply(pd.cut, bins=2, labels=[0,1])"
      ],
      "execution_count": 0,
      "outputs": []
    },
    {
      "metadata": {
        "trusted": true,
        "_uuid": "fb2e87f106dfed1cc239523fab3c1892e7643f45",
        "id": "krMzZFFirThS",
        "colab_type": "code",
        "colab": {}
      },
      "cell_type": "code",
      "source": [
        "X_binarised_train = X_binarised_train.values\n",
        "X_binarised_test = X_binarised_test.values"
      ],
      "execution_count": 0,
      "outputs": []
    },
    {
      "metadata": {
        "_uuid": "a248b89cb0da35a841750d080f3df482613db5bd",
        "id": "-eR1uY3WrThb",
        "colab_type": "text"
      },
      "cell_type": "markdown",
      "source": [
        "# X_binarised_train.head()"
      ]
    },
    {
      "metadata": {
        "trusted": true,
        "_uuid": "7b899882637b458482e54bdaf1058fc00c06652d",
        "id": "TeYj7vThrThf",
        "colab_type": "code",
        "colab": {}
      },
      "cell_type": "code",
      "source": [
        "class MPNeuron:\n",
        "  \n",
        "  def __init__(self):\n",
        "    self.b = None\n",
        "\n",
        "  def model(self, x):\n",
        "    if (sum(x) >= self.b):\n",
        "       return 1\n",
        "    else :\n",
        "       return 0\n",
        "  \n",
        "  def predict(self, X):\n",
        "    Y = []\n",
        "    for x in X:\n",
        "      result = self.model(x)\n",
        "      Y.append(result)\n",
        "    return np.array(Y)\n",
        "  \n",
        "  def fit(self, X, Y):\n",
        "    accuracy = {}\n",
        "    \n",
        "    for b in range(X.shape[1] + 1):\n",
        "      self.b = b\n",
        "      Y_pred = self.predict(X)\n",
        "      accuracy[b] = accuracy_score(Y_pred, Y)\n",
        "      \n",
        "    best_b = max(accuracy, key = accuracy.get)\n",
        "    self.b = best_b\n",
        "    \n",
        "    print('Optimal value of b is', best_b)\n",
        "    print('Highest accuracy is', accuracy[best_b])\n",
        "    print(accuracy)"
      ],
      "execution_count": 0,
      "outputs": []
    },
    {
      "metadata": {
        "trusted": true,
        "_uuid": "cec64b3bfbd6d2ebeeff1d6ee950be9b57cc98a0",
        "scrolled": true,
        "id": "TOxTQSXbrThs",
        "colab_type": "code",
        "colab": {
          "base_uri": "https://localhost:8080/",
          "height": 88
        },
        "outputId": "b23a0ffa-d7ac-47ee-b1af-066b92c5722d"
      },
      "cell_type": "code",
      "source": [
        "mp_neuron = MPNeuron()\n",
        "mp_neuron.fit(X_binarised_train, Y)"
      ],
      "execution_count": 27,
      "outputs": [
        {
          "output_type": "stream",
          "text": [
            "Optimal value of b is 10\n",
            "Highest accuracy is 0.8123167155425219\n",
            "{0: 0.6979472140762464, 1: 0.6979472140762464, 2: 0.6979472140762464, 3: 0.6979472140762464, 4: 0.6979472140762464, 5: 0.6979472140762464, 6: 0.6979472140762464, 7: 0.7008797653958945, 8: 0.7096774193548387, 9: 0.7683284457478006, 10: 0.8123167155425219, 11: 0.7331378299120235, 12: 0.5659824046920822, 13: 0.40762463343108507, 14: 0.3225806451612903, 15: 0.3020527859237537, 16: 0.3020527859237537, 17: 0.3020527859237537, 18: 0.3020527859237537, 19: 0.3020527859237537, 20: 0.3020527859237537, 21: 0.3020527859237537, 22: 0.3020527859237537, 23: 0.3020527859237537, 24: 0.3020527859237537, 25: 0.3020527859237537, 26: 0.3020527859237537, 27: 0.3020527859237537, 28: 0.3020527859237537, 29: 0.3020527859237537, 30: 0.3020527859237537, 31: 0.3020527859237537, 32: 0.3020527859237537, 33: 0.3020527859237537, 34: 0.3020527859237537, 35: 0.3020527859237537, 36: 0.3020527859237537, 37: 0.3020527859237537, 38: 0.3020527859237537, 39: 0.3020527859237537, 40: 0.3020527859237537, 41: 0.3020527859237537, 42: 0.3020527859237537, 43: 0.3020527859237537, 44: 0.3020527859237537, 45: 0.3020527859237537, 46: 0.3020527859237537, 47: 0.3020527859237537, 48: 0.3020527859237537, 49: 0.3020527859237537, 50: 0.3020527859237537, 51: 0.3020527859237537, 52: 0.3020527859237537, 53: 0.3020527859237537, 54: 0.3020527859237537, 55: 0.3020527859237537, 56: 0.3020527859237537}\n"
          ],
          "name": "stdout"
        }
      ]
    },
    {
      "metadata": {
        "trusted": true,
        "_uuid": "858cbbf4ca43c6455831dde1c42dcd61b4de74e0",
        "id": "oD6FKg-0rTh6",
        "colab_type": "code",
        "colab": {}
      },
      "cell_type": "code",
      "source": [
        "Y_test_pred = mp_neuron.predict(X_binarised_test)"
      ],
      "execution_count": 0,
      "outputs": []
    },
    {
      "metadata": {
        "trusted": true,
        "_uuid": "8a8f39a94f98e0a03c2d4eb349aae7289479053e",
        "scrolled": true,
        "id": "1_4vv_OArTiD",
        "colab_type": "code",
        "colab": {
          "base_uri": "https://localhost:8080/",
          "height": 204
        },
        "outputId": "661c4061-757e-4158-ec92-397b97dc201c"
      },
      "cell_type": "code",
      "source": [
        "submission = pd.DataFrame({'PhoneId':test_new['PhoneId'], 'Class':Y_test_pred})\n",
        "submission = submission[['PhoneId', 'Class']]\n",
        "submission.head()"
      ],
      "execution_count": 29,
      "outputs": [
        {
          "output_type": "execute_result",
          "data": {
            "text/html": [
              "<div>\n",
              "<style scoped>\n",
              "    .dataframe tbody tr th:only-of-type {\n",
              "        vertical-align: middle;\n",
              "    }\n",
              "\n",
              "    .dataframe tbody tr th {\n",
              "        vertical-align: top;\n",
              "    }\n",
              "\n",
              "    .dataframe thead th {\n",
              "        text-align: right;\n",
              "    }\n",
              "</style>\n",
              "<table border=\"1\" class=\"dataframe\">\n",
              "  <thead>\n",
              "    <tr style=\"text-align: right;\">\n",
              "      <th></th>\n",
              "      <th>PhoneId</th>\n",
              "      <th>Class</th>\n",
              "    </tr>\n",
              "  </thead>\n",
              "  <tbody>\n",
              "    <tr>\n",
              "      <th>0</th>\n",
              "      <td>3</td>\n",
              "      <td>1</td>\n",
              "    </tr>\n",
              "    <tr>\n",
              "      <th>1</th>\n",
              "      <td>11</td>\n",
              "      <td>1</td>\n",
              "    </tr>\n",
              "    <tr>\n",
              "      <th>2</th>\n",
              "      <td>13</td>\n",
              "      <td>1</td>\n",
              "    </tr>\n",
              "    <tr>\n",
              "      <th>3</th>\n",
              "      <td>16</td>\n",
              "      <td>1</td>\n",
              "    </tr>\n",
              "    <tr>\n",
              "      <th>4</th>\n",
              "      <td>19</td>\n",
              "      <td>1</td>\n",
              "    </tr>\n",
              "  </tbody>\n",
              "</table>\n",
              "</div>"
            ],
            "text/plain": [
              "   PhoneId  Class\n",
              "0        3      1\n",
              "1       11      1\n",
              "2       13      1\n",
              "3       16      1\n",
              "4       19      1"
            ]
          },
          "metadata": {
            "tags": []
          },
          "execution_count": 29
        }
      ]
    },
    {
      "metadata": {
        "trusted": true,
        "_uuid": "797cef25278ab352f109447bff0ab73889ccba9b",
        "id": "7GKX7LtQrTiQ",
        "colab_type": "code",
        "colab": {}
      },
      "cell_type": "code",
      "source": [
        "submission.to_csv(\"submission1.csv\", index=False)"
      ],
      "execution_count": 0,
      "outputs": []
    },
    {
      "metadata": {
        "trusted": true,
        "_uuid": "c90b72488b15edd98ecd97d51e15468890bc5707",
        "id": "kiUAbJccrTic",
        "colab_type": "code",
        "colab": {}
      },
      "cell_type": "code",
      "source": [
        ""
      ],
      "execution_count": 0,
      "outputs": []
    }
  ]
}